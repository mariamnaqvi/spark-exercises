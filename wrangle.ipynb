{
 "cells": [
  {
   "cell_type": "code",
   "execution_count": 2,
   "metadata": {},
   "outputs": [],
   "source": [
    "from pyspark.sql import SparkSession\n",
    "from pyspark.sql.functions import *\n",
    "\n",
    "spark = SparkSession.builder.getOrCreate()"
   ]
  },
  {
   "cell_type": "markdown",
   "metadata": {},
   "source": [
    "## 1. Read the case, department, and source data into their own spark dataframes."
   ]
  },
  {
   "cell_type": "code",
   "execution_count": 4,
   "metadata": {},
   "outputs": [],
   "source": [
    "case = (spark.read.csv(\"case.csv\",\n",
    "                     sep=\",\",\n",
    "                     header=True,\n",
    "                     inferSchema=True)\n",
    "     )\n"
   ]
  },
  {
   "cell_type": "code",
   "execution_count": 6,
   "metadata": {},
   "outputs": [],
   "source": [
    "dept = (spark.read.csv(\"dept.csv\",\n",
    "                     sep=\",\",\n",
    "                     header=True,\n",
    "                     inferSchema=True)\n",
    "     )"
   ]
  },
  {
   "cell_type": "code",
   "execution_count": 3,
   "metadata": {},
   "outputs": [],
   "source": [
    "# Read in CSV file \n",
    "source = (spark.read.csv(\"source.csv\",\n",
    "                     sep=\",\",\n",
    "                     header=True,\n",
    "                     inferSchema=True)\n",
    "     )"
   ]
  },
  {
   "cell_type": "markdown",
   "metadata": {},
   "source": [
    "## 2. Let's see how writing to the local disk works in spark:\n",
    "\n",
    "- Write the code necessary to store the source data in both csv and json format, store these as sources_csv and sources_json\n",
    "- Inspect your folder structure. What do you notice?"
   ]
  },
  {
   "cell_type": "code",
   "execution_count": 8,
   "metadata": {},
   "outputs": [],
   "source": [
    "# write to json\n",
    "source.write.json(\"sources_json\", mode=\"overwrite\")"
   ]
  },
  {
   "cell_type": "code",
   "execution_count": 9,
   "metadata": {},
   "outputs": [],
   "source": [
    "# write to csv\n",
    "source.write.csv(\"sources_csv\", mode=\"overwrite\")"
   ]
  },
  {
   "cell_type": "markdown",
   "metadata": {},
   "source": [
    "- On inspecting folder structure, I notice a success folder along with the files in each case."
   ]
  },
  {
   "cell_type": "markdown",
   "metadata": {},
   "source": [
    "## 3. Inspect the data in your dataframes. Are the data types appropriate? Write the code necessary to cast the values to the appropriate types."
   ]
  },
  {
   "cell_type": "code",
   "execution_count": 13,
   "metadata": {},
   "outputs": [
    {
     "name": "stdout",
     "output_type": "stream",
     "text": [
      "+---------+----------------+\n",
      "|source_id| source_username|\n",
      "+---------+----------------+\n",
      "|   100137|Merlene Blodgett|\n",
      "|   103582|     Carmen Cura|\n",
      "|   106463| Richard Sanchez|\n",
      "|   119403|  Betty De Hoyos|\n",
      "|   119555|  Socorro Quiara|\n",
      "+---------+----------------+\n",
      "only showing top 5 rows\n",
      "\n"
     ]
    }
   ],
   "source": [
    "source.show(5)"
   ]
  },
  {
   "cell_type": "code",
   "execution_count": 12,
   "metadata": {},
   "outputs": [
    {
     "data": {
      "text/plain": [
       "[('source_id', 'string'), ('source_username', 'string')]"
      ]
     },
     "execution_count": 12,
     "metadata": {},
     "output_type": "execute_result"
    }
   ],
   "source": [
    "# check dtypes for source dataframe\n",
    "source.dtypes"
   ]
  },
  {
   "cell_type": "markdown",
   "metadata": {},
   "source": [
    "- source_id should be a numeric value. "
   ]
  },
  {
   "cell_type": "code",
   "execution_count": 15,
   "metadata": {},
   "outputs": [],
   "source": [
    "source = source.withColumn('source_id', col('source_id').cast('int'))"
   ]
  },
  {
   "cell_type": "code",
   "execution_count": 16,
   "metadata": {},
   "outputs": [
    {
     "data": {
      "text/plain": [
       "[('source_id', 'int'), ('source_username', 'string')]"
      ]
     },
     "execution_count": 16,
     "metadata": {},
     "output_type": "execute_result"
    }
   ],
   "source": [
    "# check dtypes now\n",
    "source.dtypes"
   ]
  },
  {
   "cell_type": "code",
   "execution_count": 17,
   "metadata": {},
   "outputs": [
    {
     "name": "stdout",
     "output_type": "stream",
     "text": [
      "+----------+----------------+----------------+------------+---------+-------------------+-----------+----------------+--------------------+-----------+-----------+---------+--------------------+----------------+\n",
      "|   case_id|case_opened_date|case_closed_date|SLA_due_date|case_late|      num_days_late|case_closed|   dept_division|service_request_type|   SLA_days|case_status|source_id|     request_address|council_district|\n",
      "+----------+----------------+----------------+------------+---------+-------------------+-----------+----------------+--------------------+-----------+-----------+---------+--------------------+----------------+\n",
      "|1014127332|     1/1/18 0:42|    1/1/18 12:29|9/26/20 0:42|       NO| -998.5087616000001|        YES|Field Operations|        Stray Animal|      999.0|     Closed| svcCRMLS|2315  EL PASO ST,...|               5|\n",
      "|1014127333|     1/1/18 0:46|     1/3/18 8:11| 1/5/18 8:30|       NO|-2.0126041669999997|        YES|     Storm Water|Removal Of Obstru...|4.322222222|     Closed| svcCRMSS|2215  GOLIAD RD, ...|               3|\n",
      "|1014127334|     1/1/18 0:48|     1/2/18 7:57| 1/5/18 8:30|       NO|       -3.022337963|        YES|     Storm Water|Removal Of Obstru...|4.320729167|     Closed| svcCRMSS|102  PALFREY ST W...|               3|\n",
      "|1014127335|     1/1/18 1:29|     1/2/18 8:13|1/17/18 8:30|       NO|       -15.01148148|        YES|Code Enforcement|Front Or Side Yar...|16.29188657|     Closed| svcCRMSS|114  LA GARDE ST,...|               3|\n",
      "|1014127336|     1/1/18 1:34|    1/1/18 13:29| 1/1/18 4:34|      YES|0.37216435200000003|        YES|Field Operations|Animal Cruelty(Cr...|      0.125|     Closed| svcCRMSS|734  CLEARVIEW DR...|               7|\n",
      "+----------+----------------+----------------+------------+---------+-------------------+-----------+----------------+--------------------+-----------+-----------+---------+--------------------+----------------+\n",
      "only showing top 5 rows\n",
      "\n"
     ]
    }
   ],
   "source": [
    "case.show(5)"
   ]
  },
  {
   "cell_type": "code",
   "execution_count": 18,
   "metadata": {},
   "outputs": [
    {
     "data": {
      "text/plain": [
       "[('case_id', 'int'),\n",
       " ('case_opened_date', 'string'),\n",
       " ('case_closed_date', 'string'),\n",
       " ('SLA_due_date', 'string'),\n",
       " ('case_late', 'string'),\n",
       " ('num_days_late', 'double'),\n",
       " ('case_closed', 'string'),\n",
       " ('dept_division', 'string'),\n",
       " ('service_request_type', 'string'),\n",
       " ('SLA_days', 'double'),\n",
       " ('case_status', 'string'),\n",
       " ('source_id', 'string'),\n",
       " ('request_address', 'string'),\n",
       " ('council_district', 'int')]"
      ]
     },
     "execution_count": 18,
     "metadata": {},
     "output_type": "execute_result"
    }
   ],
   "source": [
    "case.dtypes"
   ]
  },
  {
   "cell_type": "markdown",
   "metadata": {},
   "source": [
    "- case_opened_date,case_closed_date,SLA_due_date convert to date\n",
    "- case_late, case_closed convert to boolean"
   ]
  },
  {
   "cell_type": "code",
   "execution_count": 21,
   "metadata": {},
   "outputs": [],
   "source": [
    "# to_timestamp, fmt\n",
    "\n",
    "fmt = \"M/d/yy H:mm\"\n",
    "\n",
    "case = case.withColumn('case_opened_date', to_timestamp('case_opened_date', fmt))\\\n",
    ".withColumn('case_closed_date', to_timestamp('case_closed_date', fmt))\\\n",
    ".withColumn('SLA_due_date', to_timestamp('SLA_due_date', fmt))"
   ]
  },
  {
   "cell_type": "code",
   "execution_count": 19,
   "metadata": {},
   "outputs": [],
   "source": [
    "case = case.withColumn('case_closed', expr('case_closed == \"YES\"'))\\\n",
    ".withColumn('case_late', expr('case_late == \"YES\"'))"
   ]
  },
  {
   "cell_type": "code",
   "execution_count": 22,
   "metadata": {},
   "outputs": [
    {
     "data": {
      "text/plain": [
       "[('case_id', 'int'),\n",
       " ('case_opened_date', 'timestamp'),\n",
       " ('case_closed_date', 'timestamp'),\n",
       " ('SLA_due_date', 'timestamp'),\n",
       " ('case_late', 'boolean'),\n",
       " ('num_days_late', 'double'),\n",
       " ('case_closed', 'boolean'),\n",
       " ('dept_division', 'string'),\n",
       " ('service_request_type', 'string'),\n",
       " ('SLA_days', 'double'),\n",
       " ('case_status', 'string'),\n",
       " ('source_id', 'string'),\n",
       " ('request_address', 'string'),\n",
       " ('council_district', 'int')]"
      ]
     },
     "execution_count": 22,
     "metadata": {},
     "output_type": "execute_result"
    }
   ],
   "source": [
    "case.dtypes"
   ]
  },
  {
   "cell_type": "code",
   "execution_count": 52,
   "metadata": {},
   "outputs": [
    {
     "name": "stdout",
     "output_type": "stream",
     "text": [
      "+--------------------+--------------------+----------------------+-------------------+\n",
      "|       dept_division|           dept_name|standardized_dept_name|dept_subject_to_SLA|\n",
      "+--------------------+--------------------+----------------------+-------------------+\n",
      "|     311 Call Center|    Customer Service|      Customer Service|                YES|\n",
      "|               Brush|Solid Waste Manag...|           Solid Waste|                YES|\n",
      "|     Clean and Green|Parks and Recreation|    Parks & Recreation|                YES|\n",
      "|Clean and Green N...|Parks and Recreation|    Parks & Recreation|                YES|\n",
      "|    Code Enforcement|Code Enforcement ...|  DSD/Code Enforcement|                YES|\n",
      "+--------------------+--------------------+----------------------+-------------------+\n",
      "only showing top 5 rows\n",
      "\n"
     ]
    }
   ],
   "source": [
    "dept.show(5)"
   ]
  },
  {
   "cell_type": "code",
   "execution_count": 56,
   "metadata": {},
   "outputs": [
    {
     "data": {
      "text/plain": [
       "[('dept_division', 'string'),\n",
       " ('dept_name', 'string'),\n",
       " ('standardized_dept_name', 'string'),\n",
       " ('dept_subject_to_SLA', 'string')]"
      ]
     },
     "execution_count": 56,
     "metadata": {},
     "output_type": "execute_result"
    }
   ],
   "source": [
    "dept.dtypes"
   ]
  },
  {
   "cell_type": "markdown",
   "metadata": {},
   "source": [
    "- dept_subject_to_SLA convert to boolean."
   ]
  },
  {
   "cell_type": "markdown",
   "metadata": {},
   "source": [
    "## 1. How old is the latest (in terms of days past SLA) currently open issue? How long has the oldest (in terms of days since opened) currently opened issue been open?"
   ]
  },
  {
   "cell_type": "code",
   "execution_count": 71,
   "metadata": {},
   "outputs": [
    {
     "name": "stdout",
     "output_type": "stream",
     "text": [
      "+-------------+\n",
      "|days_past_due|\n",
      "+-------------+\n",
      "|         1662|\n",
      "|         1662|\n",
      "|         1662|\n",
      "|         1661|\n",
      "|         1659|\n",
      "+-------------+\n",
      "only showing top 5 rows\n",
      "\n"
     ]
    }
   ],
   "source": [
    "(\n",
    "    case.select(datediff(current_timestamp(), 'SLA_due_date')\n",
    "    .alias('days_past_due'))\n",
    "    .where(case.case_closed == False)\n",
    "    .sort(col('days_past_due').desc())\n",
    "    .show(5)\n",
    "    \n",
    ")"
   ]
  },
  {
   "cell_type": "code",
   "execution_count": 72,
   "metadata": {},
   "outputs": [
    {
     "name": "stdout",
     "output_type": "stream",
     "text": [
      "+-------------+\n",
      "|days_past_due|\n",
      "+-------------+\n",
      "|         1662|\n",
      "|         1662|\n",
      "|         1662|\n",
      "|         1661|\n",
      "|         1659|\n",
      "+-------------+\n",
      "only showing top 5 rows\n",
      "\n"
     ]
    }
   ],
   "source": [
    "# How long has the oldest (in terms of days since opened) currently opened issue been open?\n",
    "(\n",
    "    case.select(datediff(current_timestamp(), 'SLA_due_date')\n",
    "    .alias('days_past_due'))\n",
    "    .where(case.case_closed == False)\n",
    "    .sort(col('days_past_due').desc())\n",
    "    .show(5)\n",
    "    \n",
    ")"
   ]
  },
  {
   "cell_type": "markdown",
   "metadata": {},
   "source": [
    "## 2. How many Stray Animal cases are there?"
   ]
  },
  {
   "cell_type": "code",
   "execution_count": 58,
   "metadata": {},
   "outputs": [
    {
     "data": {
      "text/plain": [
       "26760"
      ]
     },
     "execution_count": 58,
     "metadata": {},
     "output_type": "execute_result"
    }
   ],
   "source": [
    "case.filter(case.service_request_type == 'Stray Animal').count()"
   ]
  },
  {
   "cell_type": "markdown",
   "metadata": {},
   "source": [
    "## 3. How many service requests that are assigned to the Field Operations department (dept_division) are not classified as \"Officer Standby\" request type (service_request_type)?"
   ]
  },
  {
   "cell_type": "code",
   "execution_count": 42,
   "metadata": {},
   "outputs": [
    {
     "data": {
      "text/plain": [
       "113902"
      ]
     },
     "execution_count": 42,
     "metadata": {},
     "output_type": "execute_result"
    }
   ],
   "source": [
    "(\n",
    "    case.select('service_request_type')\n",
    "    .where(case.dept_division == 'Field Operations')\n",
    "    .where(case.service_request_type != 'Officer Standby').count()\n",
    ")"
   ]
  },
  {
   "cell_type": "code",
   "execution_count": 59,
   "metadata": {},
   "outputs": [
    {
     "data": {
      "text/plain": [
       "113902"
      ]
     },
     "execution_count": 59,
     "metadata": {},
     "output_type": "execute_result"
    }
   ],
   "source": [
    "# alternative method\n",
    "(\n",
    "    case.filter(expr(\"dept_division == 'Field Operations'\"))\n",
    "    .filter(expr('service_request_type != \"Officer Standby\"'))\n",
    "    .count()\n",
    ")"
   ]
  },
  {
   "cell_type": "markdown",
   "metadata": {},
   "source": [
    "## 4. Convert the council_district column to a string column."
   ]
  },
  {
   "cell_type": "code",
   "execution_count": 43,
   "metadata": {},
   "outputs": [],
   "source": [
    "case = case.withColumn(\"council_district\", col(\"council_district\").cast(\"string\"))\n"
   ]
  },
  {
   "cell_type": "code",
   "execution_count": 44,
   "metadata": {},
   "outputs": [
    {
     "data": {
      "text/plain": [
       "[('case_id', 'int'),\n",
       " ('case_opened_date', 'timestamp'),\n",
       " ('case_closed_date', 'timestamp'),\n",
       " ('SLA_due_date', 'timestamp'),\n",
       " ('case_late', 'boolean'),\n",
       " ('num_days_late', 'double'),\n",
       " ('case_closed', 'boolean'),\n",
       " ('dept_division', 'string'),\n",
       " ('service_request_type', 'string'),\n",
       " ('SLA_days', 'double'),\n",
       " ('case_status', 'string'),\n",
       " ('source_id', 'string'),\n",
       " ('request_address', 'string'),\n",
       " ('council_district', 'string'),\n",
       " ('year', 'int')]"
      ]
     },
     "execution_count": 44,
     "metadata": {},
     "output_type": "execute_result"
    }
   ],
   "source": [
    "case.dtypes"
   ]
  },
  {
   "cell_type": "markdown",
   "metadata": {},
   "source": [
    "## 5. Extract the year from the case_closed_date column."
   ]
  },
  {
   "cell_type": "code",
   "execution_count": 23,
   "metadata": {},
   "outputs": [],
   "source": [
    "case = case.withColumn('year', year(\"case_closed_date\"))"
   ]
  },
  {
   "cell_type": "code",
   "execution_count": 26,
   "metadata": {},
   "outputs": [
    {
     "name": "stdout",
     "output_type": "stream",
     "text": [
      "+----+\n",
      "|year|\n",
      "+----+\n",
      "|2018|\n",
      "|2018|\n",
      "|2018|\n",
      "|2018|\n",
      "|2018|\n",
      "+----+\n",
      "only showing top 5 rows\n",
      "\n"
     ]
    }
   ],
   "source": [
    "case.select(case.year).show(5)\n"
   ]
  },
  {
   "cell_type": "markdown",
   "metadata": {},
   "source": [
    "## 6. Convert num_days_late from days to hours in new columns num_hours_late."
   ]
  },
  {
   "cell_type": "code",
   "execution_count": 62,
   "metadata": {},
   "outputs": [
    {
     "name": "stdout",
     "output_type": "stream",
     "text": [
      "+-------------------+-------------------+\n",
      "|      num_days_late|     num_hours_late|\n",
      "+-------------------+-------------------+\n",
      "| -998.5087616000001|     -23964.2102784|\n",
      "|-2.0126041669999997|-48.302500007999996|\n",
      "|       -3.022337963|      -72.536111112|\n",
      "+-------------------+-------------------+\n",
      "only showing top 3 rows\n",
      "\n"
     ]
    }
   ],
   "source": [
    "(\n",
    "    case.withColumn('num_hours_late', case.num_days_late * 24)\n",
    "    .select('num_days_late', 'num_hours_late')\n",
    "    .show(3)\n",
    ")\n"
   ]
  },
  {
   "cell_type": "markdown",
   "metadata": {},
   "source": [
    "## 7. Join the case data with the source and department data."
   ]
  },
  {
   "cell_type": "code",
   "execution_count": 128,
   "metadata": {},
   "outputs": [],
   "source": [
    "# join case and dept dfs\n",
    "df = (\n",
    "    case\n",
    "    # do a left join so we keep everything in case df\n",
    "    .join(dept, \"dept_division\", \"left\")\n",
    "    # drop dept columns we don't need\n",
    "    .drop(dept.dept_division)\n",
    "    .drop(case.dept_division)\n",
    "    # convert to a boolean\n",
    "    .withColumn(\"dept_subject_to_SLA\", col(\"dept_subject_to_SLA\") == \"YES\")\n",
    ")"
   ]
  },
  {
   "cell_type": "code",
   "execution_count": 129,
   "metadata": {},
   "outputs": [],
   "source": [
    "# join source df\n",
    "df = df.join(source, on = df.source_id== source.source_id).drop(source.source_id)\n"
   ]
  },
  {
   "cell_type": "code",
   "execution_count": 130,
   "metadata": {},
   "outputs": [
    {
     "name": "stdout",
     "output_type": "stream",
     "text": [
      "-RECORD 0--------------------------------------\n",
      " case_id                | 1014127378           \n",
      " case_opened_date       | 2018-01-01 08:24:00  \n",
      " case_closed_date       | 2018-01-02 07:37:00  \n",
      " SLA_due_date           | 2018-01-03 08:24:00  \n",
      " case_late              | false                \n",
      " num_days_late          | -1.03287037          \n",
      " case_closed            | true                 \n",
      " service_request_type   | Dead Animal - Cat    \n",
      " SLA_days               | 2.0                  \n",
      " case_status            | Closed               \n",
      " source_id              | 139344               \n",
      " request_address        | 7059  TIMBERCREEK... \n",
      " council_district       | 6                    \n",
      " year                   | 2018                 \n",
      " dept_name              | Solid Waste Manag... \n",
      " standardized_dept_name | Solid Waste          \n",
      " dept_subject_to_SLA    | true                 \n",
      " source_username        | Isis Mendoza         \n",
      "-RECORD 1--------------------------------------\n",
      " case_id                | 1014127380           \n",
      " case_opened_date       | 2018-01-01 08:39:00  \n",
      " case_closed_date       | 2018-01-01 12:30:00  \n",
      " SLA_due_date           | 2020-09-26 08:39:00  \n",
      " case_late              | false                \n",
      " num_days_late          | -998.8396875         \n",
      " case_closed            | true                 \n",
      " service_request_type   | Stray Animal         \n",
      " SLA_days               | 999.0                \n",
      " case_status            | Closed               \n",
      " source_id              | 139344               \n",
      " request_address        | FREDSBG RD and NB... \n",
      " council_district       | 7                    \n",
      " year                   | 2018                 \n",
      " dept_name              | Animal Care Services \n",
      " standardized_dept_name | Animal Care Services \n",
      " dept_subject_to_SLA    | true                 \n",
      " source_username        | Isis Mendoza         \n",
      "-RECORD 2--------------------------------------\n",
      " case_id                | 1014127389           \n",
      " case_opened_date       | 2018-01-01 09:02:00  \n",
      " case_closed_date       | 2018-01-01 10:12:00  \n",
      " SLA_due_date           | 2018-01-03 08:30:00  \n",
      " case_late              | false                \n",
      " num_days_late          | -1.928912037         \n",
      " case_closed            | true                 \n",
      " service_request_type   | Traffic Signal Op... \n",
      " SLA_days               | 1.977453704          \n",
      " case_status            | Closed               \n",
      " source_id              | 139344               \n",
      " request_address        | CESAR CHAVEZ W an... \n",
      " council_district       | 5                    \n",
      " year                   | 2018                 \n",
      " dept_name              | Trans & Cap Impro... \n",
      " standardized_dept_name | Trans & Cap Impro... \n",
      " dept_subject_to_SLA    | true                 \n",
      " source_username        | Isis Mendoza         \n",
      "only showing top 3 rows\n",
      "\n"
     ]
    }
   ],
   "source": [
    "df.show(3, vertical = True)\n"
   ]
  },
  {
   "cell_type": "markdown",
   "metadata": {},
   "source": [
    "## 8. Are there any cases that do not have a request source?"
   ]
  },
  {
   "cell_type": "code",
   "execution_count": 131,
   "metadata": {},
   "outputs": [
    {
     "name": "stdout",
     "output_type": "stream",
     "text": [
      "+-------+----------------+----------------+------------+---------+-------------+-----------+-------------+--------------------+--------+-----------+---------+---------------+----------------+----+\n",
      "|case_id|case_opened_date|case_closed_date|SLA_due_date|case_late|num_days_late|case_closed|dept_division|service_request_type|SLA_days|case_status|source_id|request_address|council_district|year|\n",
      "+-------+----------------+----------------+------------+---------+-------------+-----------+-------------+--------------------+--------+-----------+---------+---------------+----------------+----+\n",
      "+-------+----------------+----------------+------------+---------+-------------+-----------+-------------+--------------------+--------+-----------+---------+---------------+----------------+----+\n",
      "\n"
     ]
    }
   ],
   "source": [
    "case.where(expr(\"source_id is null\")).show()"
   ]
  },
  {
   "cell_type": "markdown",
   "metadata": {},
   "source": [
    "## 9. What are the top 10 service request types in terms of number of requests?"
   ]
  },
  {
   "cell_type": "code",
   "execution_count": 132,
   "metadata": {},
   "outputs": [
    {
     "name": "stdout",
     "output_type": "stream",
     "text": [
      "+--------------------------------+-----+\n",
      "|service_request_type            |count|\n",
      "+--------------------------------+-----+\n",
      "|No Pickup                       |89210|\n",
      "|Overgrown Yard/Trash            |66403|\n",
      "|Bandit Signs                    |32968|\n",
      "|Damaged Cart                    |31163|\n",
      "|Front Or Side Yard Parking      |28920|\n",
      "|Stray Animal                    |27361|\n",
      "|Aggressive Animal(Non-Critical) |25492|\n",
      "|Cart Exchange Request           |22608|\n",
      "|Junk Vehicle On Private Property|21649|\n",
      "|Pot Hole Repair                 |20827|\n",
      "+--------------------------------+-----+\n",
      "only showing top 10 rows\n",
      "\n"
     ]
    }
   ],
   "source": [
    "(\n",
    "    case_source_dept.select('service_request_type')\n",
    "    .groupBy('service_request_type').count()\n",
    "    .sort(desc('count')).show(10,truncate=False)\n",
    ")"
   ]
  },
  {
   "cell_type": "markdown",
   "metadata": {},
   "source": [
    "## 10. What are the top 10 service request types in terms of average days late?"
   ]
  },
  {
   "cell_type": "code",
   "execution_count": 133,
   "metadata": {},
   "outputs": [
    {
     "name": "stdout",
     "output_type": "stream",
     "text": [
      "+--------------------------------------+------------------+-------+\n",
      "|service_request_type                  |n_days_late       |n_cases|\n",
      "+--------------------------------------+------------------+-------+\n",
      "|Zoning: Recycle Yard                  |210.89201994318182|132    |\n",
      "|Zoning: Junk Yards                    |200.20517608494276|262    |\n",
      "|Structure/Housing Maintenance         |190.20707698509807|51     |\n",
      "|Donation Container Enforcement        |171.09115313942615|122    |\n",
      "|Storage of Used Mattress              |163.96812829714287|7      |\n",
      "|Labeling for Used Mattress            |162.43032902285717|7      |\n",
      "|Record Keeping of Used Mattresses     |153.99724039428568|7      |\n",
      "|Signage Requied for Sale of Used Mattr|151.63868055333333|12     |\n",
      "|Traffic Signal Graffiti               |137.64583330000002|2      |\n",
      "|License Requied Used Mattress Sales   |128.79828704142858|7      |\n",
      "+--------------------------------------+------------------+-------+\n",
      "only showing top 10 rows\n",
      "\n"
     ]
    }
   ],
   "source": [
    "(\n",
    "    case.where('case_late') # just the rows where case_late == true\n",
    "    .groupBy('service_request_type')\n",
    "    .agg(mean('num_days_late').alias('n_days_late'), count('*').alias('n_cases'))\n",
    "    .sort(desc('n_days_late'))\n",
    "    .show(10, truncate=False)\n",
    ")"
   ]
  },
  {
   "cell_type": "markdown",
   "metadata": {},
   "source": [
    "## 11. Does number of days late depend on department?\n"
   ]
  },
  {
   "cell_type": "code",
   "execution_count": 134,
   "metadata": {},
   "outputs": [
    {
     "name": "stdout",
     "output_type": "stream",
     "text": [
      "+-------------------------+---------+------------+\n",
      "|dept_name                |days_late|n_cases_late|\n",
      "+-------------------------+---------+------------+\n",
      "|Metro Health             |6.3      |382         |\n",
      "|Solid Waste Management   |7.7      |16164       |\n",
      "|Trans & Cap Improvements |9.5      |1947        |\n",
      "|Animal Care Services     |23.2     |10419       |\n",
      "|Parks and Recreation     |36.1     |241         |\n",
      "|Code Enforcement Services|63.4     |2736        |\n",
      "|Development Services     |69.4     |318         |\n",
      "|Customer Service         |87.2     |995         |\n",
      "+-------------------------+---------+------------+\n",
      "\n"
     ]
    }
   ],
   "source": [
    "(df.filter('case_late')\n",
    "    .groupby('dept_name')\n",
    "    .agg(mean('num_days_late').alias('days_late'), count('num_days_late').alias('n_cases_late'))\n",
    "    .sort('days_late')\n",
    "    .withColumn('days_late', round(col('days_late'), 1))\n",
    "    .show(truncate=False)\n",
    ")"
   ]
  },
  {
   "cell_type": "code",
   "execution_count": 135,
   "metadata": {},
   "outputs": [
    {
     "name": "stdout",
     "output_type": "stream",
     "text": [
      "+-------------------------+------+\n",
      "|dept_name                |count |\n",
      "+-------------------------+------+\n",
      "|Solid Waste Management   |132059|\n",
      "|Animal Care Services     |47645 |\n",
      "|Code Enforcement Services|36024 |\n",
      "|Trans & Cap Improvements |29819 |\n",
      "|Metro Health             |2357  |\n",
      "|Customer Service         |1415  |\n",
      "|Parks and Recreation     |1180  |\n",
      "|Development Services     |481   |\n",
      "|City Council             |20    |\n",
      "+-------------------------+------+\n",
      "\n"
     ]
    }
   ],
   "source": [
    "df.groupby('dept_name').count().sort(desc('count')).show(truncate=False)\n"
   ]
  },
  {
   "cell_type": "markdown",
   "metadata": {},
   "source": [
    "## 12. How do number of days late depend on department and request type?\n"
   ]
  },
  {
   "cell_type": "code",
   "execution_count": 136,
   "metadata": {},
   "outputs": [
    {
     "name": "stdout",
     "output_type": "stream",
     "text": [
      "+------------------------+----------------------------------------+---------+-------+\n",
      "|standardized_dept_name  |service_request_type                    |days_late|n_cases|\n",
      "+------------------------+----------------------------------------+---------+-------+\n",
      "|DSD/Code Enforcement    |No Address Posted                       |132.0    |86     |\n",
      "|DSD/Code Enforcement    |Vendors                                 |99.1     |42     |\n",
      "|DSD/Code Enforcement    |Bandit Signs                            |93.0     |557    |\n",
      "|DSD/Code Enforcement    |Curbstoning                             |91.4     |37     |\n",
      "|Customer Service        |Complaint                               |59.8     |593    |\n",
      "|DSD/Code Enforcement    |Street Light New Development            |55.7     |21     |\n",
      "|Solid Waste             |Contracted Service Issues               |41.3     |6      |\n",
      "|Animal Care Services    |Animal Permits Request                  |38.0     |928    |\n",
      "|DSD/Code Enforcement    |Street Light Existing Res Sub Div       |35.2     |172    |\n",
      "|Solid Waste             |Service Information                     |27.7     |59     |\n",
      "|DSD/Code Enforcement    |Permits Building                        |21.2     |1056   |\n",
      "|Solid Waste             |Solid Waste Fees and Charges            |21.0     |2891   |\n",
      "|DSD/Code Enforcement    |Used Mattress Inspection                |20.0     |2      |\n",
      "|Animal Care Services    |Aggressive Animal(Critical)             |17.3     |1899   |\n",
      "|Parks & Recreation      |Sportfield Lighting                     |12.4     |179    |\n",
      "|Solid Waste             |Cart Placement                          |12.0     |524    |\n",
      "|Solid Waste             |Organics Info / Literature Request      |11.9     |639    |\n",
      "|Parks & Recreation      |Tree Trimming/Maintenance               |11.3     |33     |\n",
      "|Parks & Recreation      |Tree Removal                            |8.6      |19     |\n",
      "|Solid Waste             |Disability Service Requested            |8.3      |395    |\n",
      "|Animal Care Services    |Animal Neglect                          |7.7      |6417   |\n",
      "|Trans & Cap Improvements|Speed Hump Repairs - Emergency          |7.0      |245    |\n",
      "|Solid Waste             |Alley Problems                          |6.4      |8      |\n",
      "|Parks & Recreation      |Amenity Park Improvement                |5.4      |44     |\n",
      "|Solid Waste             |Automation Property Damage              |4.3      |100    |\n",
      "|Solid Waste             |Request for Commercial Service          |3.6      |135    |\n",
      "|Solid Waste             |Solid Waste - Miscellaneous             |2.8      |166    |\n",
      "|Animal Care Services    |Aggressive Animal(Non-Critical)         |2.5      |10630  |\n",
      "|Parks & Recreation      |Trail/Greenway Maintenance              |2.0      |8      |\n",
      "|Trans & Cap Improvements|Initiating Unknown Project Investigation|2.0      |1376   |\n",
      "+------------------------+----------------------------------------+---------+-------+\n",
      "only showing top 30 rows\n",
      "\n"
     ]
    }
   ],
   "source": [
    "(\n",
    "    df.filter(\"case_closed\")\n",
    "    .groupby(\"standardized_dept_name\", \"service_request_type\")\n",
    "    .agg(avg(\"num_days_late\").alias(\"days_late\"), count(\"*\").alias(\"n_cases\"))\n",
    "    .withColumn(\"days_late\", round(col(\"days_late\"), 1))\n",
    "    .where(col('days_late') > 0)\n",
    "    .sort(desc(\"days_late\"))\n",
    "    .show(30, truncate=False)\n",
    ")\n"
   ]
  },
  {
   "cell_type": "code",
   "execution_count": null,
   "metadata": {},
   "outputs": [],
   "source": []
  }
 ],
 "metadata": {
  "kernelspec": {
   "display_name": "Python 3",
   "language": "python",
   "name": "python3"
  },
  "language_info": {
   "codemirror_mode": {
    "name": "ipython",
    "version": 3
   },
   "file_extension": ".py",
   "mimetype": "text/x-python",
   "name": "python",
   "nbconvert_exporter": "python",
   "pygments_lexer": "ipython3",
   "version": "3.8.5"
  }
 },
 "nbformat": 4,
 "nbformat_minor": 4
}
